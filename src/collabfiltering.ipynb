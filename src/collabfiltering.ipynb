{
 "cells": [
  {
   "cell_type": "markdown",
   "id": "0f9f8a4e",
   "metadata": {},
   "source": [
    "# Movie Recommender System: Collaborative Filtering"
   ]
  },
  {
   "cell_type": "markdown",
   "id": "39a5e540",
   "metadata": {},
   "source": [
    "## Import libraries"
   ]
  },
  {
   "cell_type": "code",
   "execution_count": 6,
   "id": "abb64f37",
   "metadata": {},
   "outputs": [
    {
     "ename": "ModuleNotFoundError",
     "evalue": "No module named 'pyspark.sql.pivot'",
     "output_type": "error",
     "traceback": [
      "\u001b[0;31m---------------------------------------------------------------------------\u001b[0m",
      "\u001b[0;31mModuleNotFoundError\u001b[0m                       Traceback (most recent call last)",
      "Cell \u001b[0;32mIn[6], line 3\u001b[0m\n\u001b[1;32m      1\u001b[0m \u001b[38;5;28;01mfrom\u001b[39;00m \u001b[38;5;21;01mpyspark\u001b[39;00m\u001b[38;5;21;01m.\u001b[39;00m\u001b[38;5;21;01msql\u001b[39;00m \u001b[38;5;28;01mimport\u001b[39;00m SparkSession\n\u001b[1;32m      2\u001b[0m \u001b[38;5;28;01mfrom\u001b[39;00m \u001b[38;5;21;01mpyspark\u001b[39;00m\u001b[38;5;21;01m.\u001b[39;00m\u001b[38;5;21;01msql\u001b[39;00m\u001b[38;5;21;01m.\u001b[39;00m\u001b[38;5;21;01mfunctions\u001b[39;00m \u001b[38;5;28;01mimport\u001b[39;00m \u001b[38;5;241m*\u001b[39m\n\u001b[0;32m----> 3\u001b[0m \u001b[38;5;28;01mfrom\u001b[39;00m \u001b[38;5;21;01mpyspark\u001b[39;00m\u001b[38;5;21;01m.\u001b[39;00m\u001b[38;5;21;01msql\u001b[39;00m\u001b[38;5;21;01m.\u001b[39;00m\u001b[38;5;21;01mpivot\u001b[39;00m \u001b[38;5;28;01mimport\u001b[39;00m pivot\n\u001b[1;32m      4\u001b[0m \u001b[38;5;28;01mfrom\u001b[39;00m \u001b[38;5;21;01mpyspark\u001b[39;00m\u001b[38;5;21;01m.\u001b[39;00m\u001b[38;5;21;01msql\u001b[39;00m\u001b[38;5;21;01m.\u001b[39;00m\u001b[38;5;21;01mtypes\u001b[39;00m \u001b[38;5;28;01mimport\u001b[39;00m StructType, StructField, IntegerType, LongType\n",
      "\u001b[0;31mModuleNotFoundError\u001b[0m: No module named 'pyspark.sql.pivot'"
     ]
    }
   ],
   "source": [
    "from pyspark.sql import SparkSession\n",
    "from pyspark.sql.functions import *\n",
    "from pyspark.sql.pivot import pivot\n",
    "from pyspark.sql.types import StructType, StructField, IntegerType, LongType"
   ]
  },
  {
   "cell_type": "markdown",
   "id": "daccc662",
   "metadata": {},
   "source": [
    "## Initiate SparkSession"
   ]
  },
  {
   "cell_type": "code",
   "execution_count": null,
   "id": "53ab2234",
   "metadata": {},
   "outputs": [],
   "source": [
    "spark = SparkSession.builder.getOrCreate()"
   ]
  },
  {
   "cell_type": "markdown",
   "id": "968567f6",
   "metadata": {},
   "source": [
    "## Set path to data"
   ]
  },
  {
   "cell_type": "code",
   "execution_count": null,
   "id": "a646975d",
   "metadata": {},
   "outputs": [],
   "source": [
    "movieDataPath = \"../../data/ratings.csv\" "
   ]
  },
  {
   "cell_type": "markdown",
   "id": "43af5458",
   "metadata": {},
   "source": [
    "## Create DataFrame"
   ]
  },
  {
   "cell_type": "code",
   "execution_count": null,
   "id": "438651e7",
   "metadata": {},
   "outputs": [],
   "source": [
    "# Load the data with the defined schema\n",
    "data = spark.read.csv(movieDataPath, header=True)"
   ]
  },
  {
   "cell_type": "markdown",
   "id": "686a5dd9",
   "metadata": {},
   "source": [
    "## Display the DataFrame"
   ]
  },
  {
   "cell_type": "code",
   "execution_count": null,
   "id": "032f2b01",
   "metadata": {},
   "outputs": [],
   "source": [
    "data.show()"
   ]
  },
  {
   "cell_type": "markdown",
   "id": "4d0e20b0",
   "metadata": {},
   "source": [
    "## Remove any null rows"
   ]
  },
  {
   "cell_type": "code",
   "execution_count": null,
   "id": "cd7b4f07",
   "metadata": {},
   "outputs": [],
   "source": [
    "data = data.dropna()\n",
    "data.show()"
   ]
  },
  {
   "cell_type": "markdown",
   "id": "983b142a",
   "metadata": {},
   "source": [
    "## Create a User-Item matrix"
   ]
  },
  {
   "cell_type": "code",
   "execution_count": null,
   "id": "54c737c2",
   "metadata": {},
   "outputs": [],
   "source": [
    "userItemMatrix = data.groupBy(\"userId\").pivot(\"movieId\").avg(\"rating\")"
   ]
  }
 ],
 "metadata": {
  "kernelspec": {
   "display_name": "Python 3 (ipykernel)",
   "language": "python",
   "name": "python3"
  },
  "language_info": {
   "codemirror_mode": {
    "name": "ipython",
    "version": 3
   },
   "file_extension": ".py",
   "mimetype": "text/x-python",
   "name": "python",
   "nbconvert_exporter": "python",
   "pygments_lexer": "ipython3",
   "version": "3.11.4"
  }
 },
 "nbformat": 4,
 "nbformat_minor": 5
}
