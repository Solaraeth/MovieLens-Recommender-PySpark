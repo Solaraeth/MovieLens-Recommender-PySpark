{
 "cells": [
  {
   "cell_type": "code",
   "execution_count": 20,
   "metadata": {},
   "outputs": [
    {
     "name": "stderr",
     "output_type": "stream",
     "text": [
      "                                                                                \r"
     ]
    },
    {
     "name": "stdout",
     "output_type": "stream",
     "text": [
      "+------+-------+------+----------+\n",
      "|userId|movieId|rating| timestamp|\n",
      "+------+-------+------+----------+\n",
      "|     1|     31|   2.5|1260759144|\n",
      "|     1|   1029|   3.0|1260759179|\n",
      "|     1|   1061|   3.0|1260759182|\n",
      "|     1|   1129|   2.0|1260759185|\n",
      "|     1|   1172|   4.0|1260759205|\n",
      "|     1|   1263|   2.0|1260759151|\n",
      "|     1|   1287|   2.0|1260759187|\n",
      "|     1|   1293|   2.0|1260759148|\n",
      "|     1|   1339|   3.5|1260759125|\n",
      "|     1|   1343|   2.0|1260759131|\n",
      "|     1|   1371|   2.5|1260759135|\n",
      "|     1|   1405|   1.0|1260759203|\n",
      "|     1|   1953|   4.0|1260759191|\n",
      "|     1|   2105|   4.0|1260759139|\n",
      "|     1|   2150|   3.0|1260759194|\n",
      "|     1|   2193|   2.0|1260759198|\n",
      "|     1|   2294|   2.0|1260759108|\n",
      "|     1|   2455|   2.5|1260759113|\n",
      "|     1|   2968|   1.0|1260759200|\n",
      "|     1|   3671|   3.0|1260759117|\n",
      "+------+-------+------+----------+\n",
      "only showing top 20 rows\n",
      "\n",
      "root\n",
      " |-- userId: integer (nullable = true)\n",
      " |-- movieId: integer (nullable = true)\n",
      " |-- rating: double (nullable = true)\n",
      " |-- timestamp: integer (nullable = true)\n",
      "\n"
     ]
    },
    {
     "name": "stderr",
     "output_type": "stream",
     "text": [
      "                                                                                \r"
     ]
    },
    {
     "name": "stdout",
     "output_type": "stream",
     "text": [
      "+-------+------------------+\n",
      "|movieId|    average_rating|\n",
      "+-------+------------------+\n",
      "|   1580| 3.663157894736842|\n",
      "|   2659|               4.0|\n",
      "|   3794|               3.4|\n",
      "|   3175|3.5076923076923077|\n",
      "|    471| 3.877551020408163|\n",
      "|   1088| 3.358490566037736|\n",
      "|   1342|3.0588235294117645|\n",
      "|   1645|3.4583333333333335|\n",
      "|   2366|3.9347826086956523|\n",
      "|   6620|3.6470588235294117|\n",
      "|   8638|3.8823529411764706|\n",
      "|  96488|              3.75|\n",
      "| 160563|               2.5|\n",
      "|   7982|3.1666666666666665|\n",
      "|   1238| 4.147058823529412|\n",
      "|   1959|               3.8|\n",
      "|    463|3.4285714285714284|\n",
      "|   2122|2.3181818181818183|\n",
      "|   1591|               2.7|\n",
      "|   5518|               4.5|\n",
      "+-------+------------------+\n",
      "only showing top 20 rows\n",
      "\n"
     ]
    },
    {
     "name": "stderr",
     "output_type": "stream",
     "text": [
      "[Stage 27:>                                                         (0 + 1) / 1]\r"
     ]
    },
    {
     "name": "stdout",
     "output_type": "stream",
     "text": [
      "+------+-----------+\n",
      "|userId|num_ratings|\n",
      "+------+-----------+\n",
      "|   148|        132|\n",
      "|   463|        483|\n",
      "|   471|        216|\n",
      "|   496|        126|\n",
      "|   243|        307|\n",
      "|   392|         25|\n",
      "|   540|         20|\n",
      "|   623|        103|\n",
      "|    31|         69|\n",
      "|   516|        149|\n",
      "|    85|        107|\n",
      "|   137|         80|\n",
      "|   251|        119|\n",
      "|   451|         52|\n",
      "|   580|        922|\n",
      "|    65|         27|\n",
      "|   458|         76|\n",
      "|    53|         46|\n",
      "|   255|        145|\n",
      "|   481|        436|\n",
      "+------+-----------+\n",
      "only showing top 20 rows\n",
      "\n"
     ]
    },
    {
     "name": "stderr",
     "output_type": "stream",
     "text": [
      "                                                                                \r"
     ]
    }
   ],
   "source": [
    "from pyspark.sql import SparkSession\n",
    "\n",
    "# Initialize a Spark session\n",
    "spark = SparkSession.builder \\\n",
    "    .appName(\"MovieLens Exploration\") \\\n",
    "    .getOrCreate()\n",
    "\n",
    "# Load dataset\n",
    "ratings_df = spark.read.csv(\"../data/ratings_small.csv\", header=True, inferSchema=True)\n",
    "\n",
    "# Display the first few rows of the dataframe\n",
    "ratings_df.show()\n",
    "\n",
    "# Print the schema of the dataframe\n",
    "ratings_df.printSchema()\n",
    "\n",
    "from pyspark.sql import functions as F\n",
    "\n",
    "# Average rating per movie\n",
    "avg_ratings = ratings_df.groupBy(\"movieId\").agg(F.avg(\"rating\").alias(\"average_rating\"))\n",
    "avg_ratings.show()\n",
    "\n",
    "# Number of ratings per user\n",
    "user_ratings_count = ratings_df.groupBy(\"userId\").agg(F.count(\"rating\").alias(\"num_ratings\"))\n",
    "user_ratings_count.show()"
   ]
  },
  {
   "cell_type": "code",
   "execution_count": 22,
   "metadata": {},
   "outputs": [
    {
     "name": "stderr",
     "output_type": "stream",
     "text": [
      "                                                                                \r"
     ]
    },
    {
     "name": "stdout",
     "output_type": "stream",
     "text": [
      "userId \t with null values:  0\n"
     ]
    },
    {
     "name": "stderr",
     "output_type": "stream",
     "text": [
      "                                                                                \r"
     ]
    },
    {
     "name": "stdout",
     "output_type": "stream",
     "text": [
      "movieId \t with null values:  0\n",
      "rating \t with null values:  0\n"
     ]
    },
    {
     "name": "stderr",
     "output_type": "stream",
     "text": [
      "                                                                                \r"
     ]
    },
    {
     "name": "stdout",
     "output_type": "stream",
     "text": [
      "timestamp \t with null values:  0\n"
     ]
    },
    {
     "name": "stderr",
     "output_type": "stream",
     "text": [
      "                                                                                \r"
     ]
    },
    {
     "name": "stdout",
     "output_type": "stream",
     "text": [
      "Number of training records: 80149\n"
     ]
    },
    {
     "name": "stderr",
     "output_type": "stream",
     "text": [
      "[Stage 63:>                                                         (0 + 1) / 1]\r"
     ]
    },
    {
     "name": "stdout",
     "output_type": "stream",
     "text": [
      "Number of testing records : 19855\n"
     ]
    },
    {
     "name": "stderr",
     "output_type": "stream",
     "text": [
      "                                                                                \r"
     ]
    }
   ],
   "source": [
    "# Data Preprocessing\n",
    "\n",
    "# 1. Handle Missing Values\n",
    "for col in ratings_df.columns:\n",
    "    print(col, \"\\t\", \"with null values: \", ratings_df.filter(ratings_df[col].isNull()).count())\n",
    "\n",
    "# Drop them if necessary (just an example)\n",
    "# ratings_df = ratings_df.dropna()\n",
    "\n",
    "# 2. Convert Data Types if necessary\n",
    "# As an example, converting 'rating' column to float type\n",
    "# ratings_df = ratings_df.withColumn(\"rating\", ratings_df[\"rating\"].cast(\"float\"))\n",
    "\n",
    "# 3. Split the Dataset\n",
    "train_data, test_data = ratings_df.randomSplit([0.8, 0.2], seed=1234)\n",
    "\n",
    "# Check the count of each dataset\n",
    "print(\"Number of training records: \" + str(train_data.count()))\n",
    "print(\"Number of testing records : \" + str(test_data.count()))\n"
   ]
  },
  {
   "cell_type": "code",
   "execution_count": 25,
   "metadata": {},
   "outputs": [
    {
     "name": "stderr",
     "output_type": "stream",
     "text": [
      "23/08/21 17:59:11 WARN InstanceBuilder: Failed to load implementation from:dev.ludovic.netlib.blas.JNIBLAS\n",
      "                                                                                \r"
     ]
    }
   ],
   "source": [
    "from pyspark.ml.recommendation import ALS\n",
    "from pyspark.ml.evaluation import RegressionEvaluator\n",
    "\n",
    "# Define the ALS model\n",
    "als = ALS(userCol=\"userId\", itemCol=\"movieId\", ratingCol=\"rating\", nonnegative=True, implicitPrefs=False, coldStartStrategy=\"drop\")\n",
    "\n",
    "# Set model parameters\n",
    "model = als.fit(train_data)\n",
    "\n",
    "# Predict on the test set\n",
    "predictions = model.transform(test_data)\n"
   ]
  },
  {
   "cell_type": "code",
   "execution_count": 26,
   "metadata": {},
   "outputs": [
    {
     "name": "stderr",
     "output_type": "stream",
     "text": [
      "[Stage 174:>                                                        (0 + 1) / 1]\r"
     ]
    },
    {
     "name": "stdout",
     "output_type": "stream",
     "text": [
      "Root-mean-square error = 0.9063129788369194\n"
     ]
    },
    {
     "name": "stderr",
     "output_type": "stream",
     "text": [
      "                                                                                \r"
     ]
    }
   ],
   "source": [
    "# Evaluate the model with Root Mean Squared Error\n",
    "evaluator = RegressionEvaluator(metricName=\"rmse\", labelCol=\"rating\", predictionCol=\"prediction\")\n",
    "rmse = evaluator.evaluate(predictions)\n",
    "print(\"Root-mean-square error = \" + str(rmse))\n"
   ]
  }
 ],
 "metadata": {
  "kernelspec": {
   "display_name": "MLRecommender",
   "language": "python",
   "name": "python3"
  },
  "language_info": {
   "codemirror_mode": {
    "name": "ipython",
    "version": 3
   },
   "file_extension": ".py",
   "mimetype": "text/x-python",
   "name": "python",
   "nbconvert_exporter": "python",
   "pygments_lexer": "ipython3",
   "version": "3.11.4"
  },
  "orig_nbformat": 4
 },
 "nbformat": 4,
 "nbformat_minor": 2
}
