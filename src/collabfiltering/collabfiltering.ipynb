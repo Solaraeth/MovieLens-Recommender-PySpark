{
 "cells": [
  {
   "cell_type": "markdown",
   "id": "3eb50803",
   "metadata": {},
   "source": [
    "# Movie Recommender System: Collaborative Filtering"
   ]
  },
  {
   "cell_type": "markdown",
   "id": "3a22c180",
   "metadata": {},
   "source": [
    "## Import libraries"
   ]
  },
  {
   "cell_type": "code",
   "execution_count": 304,
   "id": "0ec12abe",
   "metadata": {},
   "outputs": [],
   "source": [
    "import math\n",
    "import numpy as np\n",
    "import pandas as pd"
   ]
  },
  {
   "cell_type": "markdown",
   "id": "69626c50",
   "metadata": {},
   "source": [
    "## Set path to rating data"
   ]
  },
  {
   "cell_type": "code",
   "execution_count": 305,
   "id": "8d8c6df8",
   "metadata": {},
   "outputs": [],
   "source": [
    "# Set path to rating data\n",
    "movieRatingPath = \"../../data/ratings_small.csv\""
   ]
  },
  {
   "cell_type": "markdown",
   "id": "e067cef6",
   "metadata": {},
   "source": [
    "## Set path to movie info data"
   ]
  },
  {
   "cell_type": "code",
   "execution_count": 306,
   "id": "768de8af",
   "metadata": {},
   "outputs": [],
   "source": [
    "# Set path to metadata containing movie titles\n",
    "movieInfoPath = \"../../data/movies_metadata.csv\""
   ]
  },
  {
   "cell_type": "markdown",
   "id": "2b4ab025",
   "metadata": {},
   "source": [
    "## Create DataFrames"
   ]
  },
  {
   "cell_type": "code",
   "execution_count": 307,
   "id": "b21b61d1",
   "metadata": {},
   "outputs": [],
   "source": [
    "# Create DataFrame containing ratings info\n",
    "data = pd.read_csv(movieRatingPath)"
   ]
  },
  {
   "cell_type": "code",
   "execution_count": 308,
   "id": "a2538381",
   "metadata": {},
   "outputs": [
    {
     "name": "stderr",
     "output_type": "stream",
     "text": [
      "/tmp/ipykernel_20892/1312881326.py:2: DtypeWarning: Columns (10) have mixed types. Specify dtype option on import or set low_memory=False.\n",
      "  metadata = pd.read_csv(movieInfoPath)\n"
     ]
    }
   ],
   "source": [
    "# Create DataFrame containing a unique set of movie IDs and titles\n",
    "metadata = pd.read_csv(movieInfoPath)\n",
    "metadata[\"id\"] = pd.to_numeric(metadata[\"id\"], errors=\"coerce\")\n",
    "metadata = metadata.drop_duplicates(subset=[\"id\"])"
   ]
  },
  {
   "cell_type": "markdown",
   "id": "4909c8bb",
   "metadata": {},
   "source": [
    "## Create a dictionary of the movie IDs"
   ]
  },
  {
   "cell_type": "code",
   "execution_count": 309,
   "id": "f1e029a3",
   "metadata": {},
   "outputs": [],
   "source": [
    "# Create a dictionary of movie IDs and titles\n",
    "movieIdToTitle = dict(zip(metadata[\"id\"], metadata[\"title\"]))"
   ]
  },
  {
   "cell_type": "markdown",
   "id": "792ffb8d",
   "metadata": {},
   "source": [
    "## Display the ratings DataFrame"
   ]
  },
  {
   "cell_type": "code",
   "execution_count": 310,
   "id": "dacfb9da",
   "metadata": {},
   "outputs": [
    {
     "data": {
      "text/html": [
       "<div>\n",
       "<style scoped>\n",
       "    .dataframe tbody tr th:only-of-type {\n",
       "        vertical-align: middle;\n",
       "    }\n",
       "\n",
       "    .dataframe tbody tr th {\n",
       "        vertical-align: top;\n",
       "    }\n",
       "\n",
       "    .dataframe thead th {\n",
       "        text-align: right;\n",
       "    }\n",
       "</style>\n",
       "<table border=\"1\" class=\"dataframe\">\n",
       "  <thead>\n",
       "    <tr style=\"text-align: right;\">\n",
       "      <th></th>\n",
       "      <th>userId</th>\n",
       "      <th>movieId</th>\n",
       "      <th>rating</th>\n",
       "      <th>timestamp</th>\n",
       "    </tr>\n",
       "  </thead>\n",
       "  <tbody>\n",
       "    <tr>\n",
       "      <th>0</th>\n",
       "      <td>1</td>\n",
       "      <td>31</td>\n",
       "      <td>2.5</td>\n",
       "      <td>1260759144</td>\n",
       "    </tr>\n",
       "    <tr>\n",
       "      <th>1</th>\n",
       "      <td>1</td>\n",
       "      <td>1029</td>\n",
       "      <td>3.0</td>\n",
       "      <td>1260759179</td>\n",
       "    </tr>\n",
       "    <tr>\n",
       "      <th>2</th>\n",
       "      <td>1</td>\n",
       "      <td>1061</td>\n",
       "      <td>3.0</td>\n",
       "      <td>1260759182</td>\n",
       "    </tr>\n",
       "    <tr>\n",
       "      <th>3</th>\n",
       "      <td>1</td>\n",
       "      <td>1129</td>\n",
       "      <td>2.0</td>\n",
       "      <td>1260759185</td>\n",
       "    </tr>\n",
       "    <tr>\n",
       "      <th>4</th>\n",
       "      <td>1</td>\n",
       "      <td>1172</td>\n",
       "      <td>4.0</td>\n",
       "      <td>1260759205</td>\n",
       "    </tr>\n",
       "    <tr>\n",
       "      <th>...</th>\n",
       "      <td>...</td>\n",
       "      <td>...</td>\n",
       "      <td>...</td>\n",
       "      <td>...</td>\n",
       "    </tr>\n",
       "    <tr>\n",
       "      <th>99999</th>\n",
       "      <td>671</td>\n",
       "      <td>6268</td>\n",
       "      <td>2.5</td>\n",
       "      <td>1065579370</td>\n",
       "    </tr>\n",
       "    <tr>\n",
       "      <th>100000</th>\n",
       "      <td>671</td>\n",
       "      <td>6269</td>\n",
       "      <td>4.0</td>\n",
       "      <td>1065149201</td>\n",
       "    </tr>\n",
       "    <tr>\n",
       "      <th>100001</th>\n",
       "      <td>671</td>\n",
       "      <td>6365</td>\n",
       "      <td>4.0</td>\n",
       "      <td>1070940363</td>\n",
       "    </tr>\n",
       "    <tr>\n",
       "      <th>100002</th>\n",
       "      <td>671</td>\n",
       "      <td>6385</td>\n",
       "      <td>2.5</td>\n",
       "      <td>1070979663</td>\n",
       "    </tr>\n",
       "    <tr>\n",
       "      <th>100003</th>\n",
       "      <td>671</td>\n",
       "      <td>6565</td>\n",
       "      <td>3.5</td>\n",
       "      <td>1074784724</td>\n",
       "    </tr>\n",
       "  </tbody>\n",
       "</table>\n",
       "<p>100004 rows × 4 columns</p>\n",
       "</div>"
      ],
      "text/plain": [
       "        userId  movieId  rating   timestamp\n",
       "0            1       31     2.5  1260759144\n",
       "1            1     1029     3.0  1260759179\n",
       "2            1     1061     3.0  1260759182\n",
       "3            1     1129     2.0  1260759185\n",
       "4            1     1172     4.0  1260759205\n",
       "...        ...      ...     ...         ...\n",
       "99999      671     6268     2.5  1065579370\n",
       "100000     671     6269     4.0  1065149201\n",
       "100001     671     6365     4.0  1070940363\n",
       "100002     671     6385     2.5  1070979663\n",
       "100003     671     6565     3.5  1074784724\n",
       "\n",
       "[100004 rows x 4 columns]"
      ]
     },
     "execution_count": 310,
     "metadata": {},
     "output_type": "execute_result"
    }
   ],
   "source": [
    "# Output the rating DataFrame\n",
    "data"
   ]
  },
  {
   "cell_type": "markdown",
   "id": "76d9207a",
   "metadata": {},
   "source": [
    "## Replace null values with zeros"
   ]
  },
  {
   "cell_type": "code",
   "execution_count": 311,
   "id": "d2390406",
   "metadata": {},
   "outputs": [
    {
     "data": {
      "text/html": [
       "<div>\n",
       "<style scoped>\n",
       "    .dataframe tbody tr th:only-of-type {\n",
       "        vertical-align: middle;\n",
       "    }\n",
       "\n",
       "    .dataframe tbody tr th {\n",
       "        vertical-align: top;\n",
       "    }\n",
       "\n",
       "    .dataframe thead th {\n",
       "        text-align: right;\n",
       "    }\n",
       "</style>\n",
       "<table border=\"1\" class=\"dataframe\">\n",
       "  <thead>\n",
       "    <tr style=\"text-align: right;\">\n",
       "      <th></th>\n",
       "      <th>userId</th>\n",
       "      <th>movieId</th>\n",
       "      <th>rating</th>\n",
       "      <th>timestamp</th>\n",
       "    </tr>\n",
       "  </thead>\n",
       "  <tbody>\n",
       "    <tr>\n",
       "      <th>0</th>\n",
       "      <td>1</td>\n",
       "      <td>31</td>\n",
       "      <td>2.5</td>\n",
       "      <td>1260759144</td>\n",
       "    </tr>\n",
       "    <tr>\n",
       "      <th>1</th>\n",
       "      <td>1</td>\n",
       "      <td>1029</td>\n",
       "      <td>3.0</td>\n",
       "      <td>1260759179</td>\n",
       "    </tr>\n",
       "    <tr>\n",
       "      <th>2</th>\n",
       "      <td>1</td>\n",
       "      <td>1061</td>\n",
       "      <td>3.0</td>\n",
       "      <td>1260759182</td>\n",
       "    </tr>\n",
       "    <tr>\n",
       "      <th>3</th>\n",
       "      <td>1</td>\n",
       "      <td>1129</td>\n",
       "      <td>2.0</td>\n",
       "      <td>1260759185</td>\n",
       "    </tr>\n",
       "    <tr>\n",
       "      <th>4</th>\n",
       "      <td>1</td>\n",
       "      <td>1172</td>\n",
       "      <td>4.0</td>\n",
       "      <td>1260759205</td>\n",
       "    </tr>\n",
       "    <tr>\n",
       "      <th>...</th>\n",
       "      <td>...</td>\n",
       "      <td>...</td>\n",
       "      <td>...</td>\n",
       "      <td>...</td>\n",
       "    </tr>\n",
       "    <tr>\n",
       "      <th>99999</th>\n",
       "      <td>671</td>\n",
       "      <td>6268</td>\n",
       "      <td>2.5</td>\n",
       "      <td>1065579370</td>\n",
       "    </tr>\n",
       "    <tr>\n",
       "      <th>100000</th>\n",
       "      <td>671</td>\n",
       "      <td>6269</td>\n",
       "      <td>4.0</td>\n",
       "      <td>1065149201</td>\n",
       "    </tr>\n",
       "    <tr>\n",
       "      <th>100001</th>\n",
       "      <td>671</td>\n",
       "      <td>6365</td>\n",
       "      <td>4.0</td>\n",
       "      <td>1070940363</td>\n",
       "    </tr>\n",
       "    <tr>\n",
       "      <th>100002</th>\n",
       "      <td>671</td>\n",
       "      <td>6385</td>\n",
       "      <td>2.5</td>\n",
       "      <td>1070979663</td>\n",
       "    </tr>\n",
       "    <tr>\n",
       "      <th>100003</th>\n",
       "      <td>671</td>\n",
       "      <td>6565</td>\n",
       "      <td>3.5</td>\n",
       "      <td>1074784724</td>\n",
       "    </tr>\n",
       "  </tbody>\n",
       "</table>\n",
       "<p>100004 rows × 4 columns</p>\n",
       "</div>"
      ],
      "text/plain": [
       "        userId  movieId  rating   timestamp\n",
       "0            1       31     2.5  1260759144\n",
       "1            1     1029     3.0  1260759179\n",
       "2            1     1061     3.0  1260759182\n",
       "3            1     1129     2.0  1260759185\n",
       "4            1     1172     4.0  1260759205\n",
       "...        ...      ...     ...         ...\n",
       "99999      671     6268     2.5  1065579370\n",
       "100000     671     6269     4.0  1065149201\n",
       "100001     671     6365     4.0  1070940363\n",
       "100002     671     6385     2.5  1070979663\n",
       "100003     671     6565     3.5  1074784724\n",
       "\n",
       "[100004 rows x 4 columns]"
      ]
     },
     "execution_count": 311,
     "metadata": {},
     "output_type": "execute_result"
    }
   ],
   "source": [
    "# Format rating column\n",
    "data['rating'] = data['rating'].astype(float)\n",
    "\n",
    "# Replace null ratings with zeros\n",
    "data['rating'].fillna(0, inplace=True)\n",
    "\n",
    "# Output the rating DataFrame\n",
    "data"
   ]
  },
  {
   "cell_type": "markdown",
   "id": "4f61778b",
   "metadata": {},
   "source": [
    "## Create a User-Item matrix"
   ]
  },
  {
   "cell_type": "code",
   "execution_count": 312,
   "id": "356d3ecd",
   "metadata": {
    "scrolled": false
   },
   "outputs": [],
   "source": [
    "# Create a pivot table for a user-item matrix\n",
    "userItemMatrix = data.pivot_table(index='userId', columns='movieId', values='rating', aggfunc='mean')\n",
    "\n",
    "# Turn the matrix into an array\n",
    "userItemArray = userItemMatrix.fillna(0).values"
   ]
  },
  {
   "cell_type": "markdown",
   "id": "7d096600",
   "metadata": {},
   "source": [
    "## Define correlation function"
   ]
  },
  {
   "cell_type": "code",
   "execution_count": 313,
   "id": "51784add",
   "metadata": {},
   "outputs": [],
   "source": [
    "# Define a function to calculate the correlation between any two movies\n",
    "def calculateCorrelation(matrix, movie1, movie2):\n",
    "    return np.corrcoef(matrix[:, movie1], matrix[:, movie2])[0, 1]"
   ]
  },
  {
   "cell_type": "markdown",
   "id": "a18cf403",
   "metadata": {},
   "source": [
    "## Define item-item correlation function"
   ]
  },
  {
   "cell_type": "code",
   "execution_count": 314,
   "id": "d8cafc26",
   "metadata": {},
   "outputs": [],
   "source": [
    "# Define a function to calculate the item-item correlation\n",
    "def getItemItem(matrix, movieIndex):\n",
    "    # Create a list of movie IDs, without the given ID\n",
    "    movieIds = [col for col in range(matrix.shape[1]) if col != movieIndex]\n",
    "    correlations = []\n",
    "    \n",
    "    # Iterate through the movie IDs and calculate the correlation\n",
    "    for movieId in movieIds:\n",
    "        correlation = calculateCorrelation(matrix, movieIndex, movieId)\n",
    "        \n",
    "        # If the correlation is not NaN, append the movie ID and correlation\n",
    "        if not np.isnan(correlation):\n",
    "            correlations.append((movieId, correlation))\n",
    "    \n",
    "    # Sort the correlations in descending order and output to a DataFrame\n",
    "    top10Movies = pd.DataFrame(sorted(correlations, key=lambda x: x[1], reverse=True), columns=[\"Movie Index\", \"Correlation\"])\n",
    "    return top10Movies"
   ]
  },
  {
   "cell_type": "markdown",
   "id": "883ad42c",
   "metadata": {},
   "source": [
    "## Set the movie ID to search for"
   ]
  },
  {
   "cell_type": "code",
   "execution_count": 315,
   "id": "3d2516ac",
   "metadata": {},
   "outputs": [
    {
     "name": "stdout",
     "output_type": "stream",
     "text": [
      "The movie you selected is 'Lock, Stock and Two Smoking Barrels'.\n"
     ]
    }
   ],
   "source": [
    "# Set the movie ID to correlate with\n",
    "testMovieIndex = 100\n",
    "\n",
    "# Print the movie title\n",
    "testMovieTitle = movieIdToTitle.get(testMovieIndex)\n",
    "print(f\"The movie you selected is '{testMovieTitle}'.\")"
   ]
  },
  {
   "cell_type": "markdown",
   "id": "843dd760",
   "metadata": {},
   "source": [
    "## Generate the list of item-item recommended movies"
   ]
  },
  {
   "cell_type": "code",
   "execution_count": 316,
   "id": "d934b931",
   "metadata": {},
   "outputs": [
    {
     "data": {
      "text/html": [
       "<div>\n",
       "<style scoped>\n",
       "    .dataframe tbody tr th:only-of-type {\n",
       "        vertical-align: middle;\n",
       "    }\n",
       "\n",
       "    .dataframe tbody tr th {\n",
       "        vertical-align: top;\n",
       "    }\n",
       "\n",
       "    .dataframe thead th {\n",
       "        text-align: right;\n",
       "    }\n",
       "</style>\n",
       "<table border=\"1\" class=\"dataframe\">\n",
       "  <thead>\n",
       "    <tr style=\"text-align: right;\">\n",
       "      <th></th>\n",
       "      <th>Movie Title</th>\n",
       "      <th>Movie Index</th>\n",
       "      <th>Correlation</th>\n",
       "    </tr>\n",
       "  </thead>\n",
       "  <tbody>\n",
       "    <tr>\n",
       "      <th>0</th>\n",
       "      <td>Bang, Boom, Bang</td>\n",
       "      <td>344</td>\n",
       "      <td>0.458879</td>\n",
       "    </tr>\n",
       "    <tr>\n",
       "      <th>1</th>\n",
       "      <td>Ed Wood</td>\n",
       "      <td>522</td>\n",
       "      <td>0.454953</td>\n",
       "    </tr>\n",
       "    <tr>\n",
       "      <th>2</th>\n",
       "      <td>Requiem</td>\n",
       "      <td>523</td>\n",
       "      <td>0.453478</td>\n",
       "    </tr>\n",
       "    <tr>\n",
       "      <th>3</th>\n",
       "      <td>Mambo Italiano</td>\n",
       "      <td>321</td>\n",
       "      <td>0.447518</td>\n",
       "    </tr>\n",
       "    <tr>\n",
       "      <th>4</th>\n",
       "      <td>Jackie Brown</td>\n",
       "      <td>184</td>\n",
       "      <td>0.417068</td>\n",
       "    </tr>\n",
       "    <tr>\n",
       "      <th>5</th>\n",
       "      <td>Mon oncle</td>\n",
       "      <td>427</td>\n",
       "      <td>0.411172</td>\n",
       "    </tr>\n",
       "    <tr>\n",
       "      <th>6</th>\n",
       "      <td>Wings of Desire</td>\n",
       "      <td>144</td>\n",
       "      <td>0.409131</td>\n",
       "    </tr>\n",
       "    <tr>\n",
       "      <th>9</th>\n",
       "      <td>La Haine</td>\n",
       "      <td>406</td>\n",
       "      <td>0.389657</td>\n",
       "    </tr>\n",
       "    <tr>\n",
       "      <th>10</th>\n",
       "      <td>Casino</td>\n",
       "      <td>524</td>\n",
       "      <td>0.388236</td>\n",
       "    </tr>\n",
       "    <tr>\n",
       "      <th>11</th>\n",
       "      <td>Spirited Away</td>\n",
       "      <td>129</td>\n",
       "      <td>0.386997</td>\n",
       "    </tr>\n",
       "  </tbody>\n",
       "</table>\n",
       "</div>"
      ],
      "text/plain": [
       "         Movie Title  Movie Index  Correlation\n",
       "0   Bang, Boom, Bang          344     0.458879\n",
       "1            Ed Wood          522     0.454953\n",
       "2            Requiem          523     0.453478\n",
       "3     Mambo Italiano          321     0.447518\n",
       "4       Jackie Brown          184     0.417068\n",
       "5          Mon oncle          427     0.411172\n",
       "6    Wings of Desire          144     0.409131\n",
       "9           La Haine          406     0.389657\n",
       "10            Casino          524     0.388236\n",
       "11     Spirited Away          129     0.386997"
      ]
     },
     "execution_count": 316,
     "metadata": {},
     "output_type": "execute_result"
    }
   ],
   "source": [
    "# Generate the item-item correlation\n",
    "top10Movies = getItemItem(userItemArray, testMovieIndex)\n",
    "top10Movies[\"Movie Title\"] = top10Movies[\"Movie Index\"].map(movieIdToTitle)\n",
    "top10Movies = top10Movies[[\"Movie Title\", \"Movie Index\", \"Correlation\"]].dropna(subset=[\"Movie Title\"]).head(10)\n",
    "top10Movies"
   ]
  }
 ],
 "metadata": {
  "kernelspec": {
   "display_name": "Python 3 (ipykernel)",
   "language": "python",
   "name": "python3"
  },
  "language_info": {
   "codemirror_mode": {
    "name": "ipython",
    "version": 3
   },
   "file_extension": ".py",
   "mimetype": "text/x-python",
   "name": "python",
   "nbconvert_exporter": "python",
   "pygments_lexer": "ipython3",
   "version": "3.11.4"
  }
 },
 "nbformat": 4,
 "nbformat_minor": 5
}
